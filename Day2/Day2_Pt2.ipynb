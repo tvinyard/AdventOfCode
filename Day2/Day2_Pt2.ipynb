{
 "cells": [
  {
   "cell_type": "code",
   "execution_count": 1,
   "metadata": {},
   "outputs": [],
   "source": [
    "# Imports\n",
    "import pandas as pd\n",
    "import numpy as np"
   ]
  },
  {
   "cell_type": "markdown",
   "metadata": {},
   "source": [
    "--- Part Two --- Based on your calculations, the planned course doesn't seem to make any sense. You find the submarine manual and discover that the process is actually slightly more complicated.\n",
    "\n",
    "In addition to horizontal position and depth, you'll also need to track a third value, aim, which also starts at 0. The commands also mean something entirely different than you first thought:\n",
    "\n",
    "down X increases your aim by X units. up X decreases your aim by X units. forward X does two things: It increases your horizontal position by X units. It increases your depth by your aim multiplied by X. Again note that since you're on a submarine, down and up do the opposite of what you might expect: \"down\" means aiming in the positive direction.\n",
    "\n",
    "Now, the above example does something different:\n",
    "\n",
    "    forward 5 adds 5 to your horizontal position, a total of 5. Because your aim is 0, your depth does not change.\n",
    "    down 5 adds 5 to your aim, resulting in a value of 5.\n",
    "    forward 8 adds 8 to your horizontal position, a total of 13. Because your aim is 5, your depth increases by 8*5=40.\n",
    "    up 3 decreases your aim by 3, resulting in a value of 2.\n",
    "    down 8 adds 8 to your aim, resulting in a value of 10.\n",
    "    forward 2 adds 2 to your horizontal position, a total of 15. Because your aim is 10, your depth increases by 2*10=20 to a total of 60.\n",
    "\n",
    "Using this new interpretation of the commands, calculate the horizontal position and depth you would have after following the planned course. What do you get if you multiply your final horizontal position by your final depth?\n"
   ]
  },
  {
   "cell_type": "code",
   "execution_count": 2,
   "metadata": {},
   "outputs": [],
   "source": [
    "# Puzzle 2\n",
    "dfPos2 = pd.read_csv('AoC_Day2_Pt2_Data.txt',header=None, sep='\\s+',names=['Dir','Amt'])"
   ]
  },
  {
   "cell_type": "code",
   "execution_count": 13,
   "metadata": {},
   "outputs": [
    {
     "data": {
      "text/plain": [
       "array(['forward', 'down', 'up'], dtype=object)"
      ]
     },
     "execution_count": 13,
     "metadata": {},
     "output_type": "execute_result"
    }
   ],
   "source": [
    "dfPos2['Dir'].unique()"
   ]
  },
  {
   "cell_type": "code",
   "execution_count": 16,
   "metadata": {},
   "outputs": [
    {
     "data": {
      "text/plain": [
       "2138382217"
      ]
     },
     "execution_count": 16,
     "metadata": {},
     "output_type": "execute_result"
    }
   ],
   "source": [
    "horiz = 0\n",
    "depth = 0\n",
    "aim = 0\n",
    "i = 0\n",
    "result =0\n",
    "\n",
    "for row in dfPos2.itertuples(index=False):\n",
    "    if dfPos2['Dir'][i] == 'forward':\n",
    "        horiz += dfPos2['Amt'][i] \n",
    "        depth += aim*dfPos2['Amt'][i]\n",
    "        i += 1\n",
    "    elif dfPos2['Dir'][i] == 'down':\n",
    "        aim += dfPos2['Amt'][i] \n",
    "        i += 1\n",
    "    elif dfPos2['Dir'][i] == 'up':\n",
    "        aim += -dfPos2['Amt'][i] \n",
    "        i += 1\n",
    "\n",
    "answer = horiz * depth\n",
    "answer"
   ]
  },
  {
   "cell_type": "code",
   "execution_count": null,
   "metadata": {},
   "outputs": [],
   "source": []
  }
 ],
 "metadata": {
  "kernelspec": {
   "display_name": "Python 3",
   "language": "python",
   "name": "python3"
  },
  "language_info": {
   "codemirror_mode": {
    "name": "ipython",
    "version": 3
   },
   "file_extension": ".py",
   "mimetype": "text/x-python",
   "name": "python",
   "nbconvert_exporter": "python",
   "pygments_lexer": "ipython3",
   "version": "3.7.4"
  }
 },
 "nbformat": 4,
 "nbformat_minor": 4
}
